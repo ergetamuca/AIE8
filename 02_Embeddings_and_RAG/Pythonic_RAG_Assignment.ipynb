{
  "cells": [
    {
      "cell_type": "markdown",
      "metadata": {
        "id": "lElF3o5PR6ys"
      },
      "source": [
        "# Your First RAG Application\n",
        "\n",
        "In this notebook, we'll walk you through each of the components that are involved in a simple RAG application.\n",
        "\n",
        "We won't be leveraging any fancy tools, just the OpenAI Python SDK, Numpy, and some classic Python.\n",
        "\n",
        "> NOTE: This was done with Python 3.12.3.\n",
        "\n",
        "> NOTE: There might be [compatibility issues](https://github.com/wandb/wandb/issues/7683) if you're on NVIDIA driver >552.44 As an interim solution - you can rollback your drivers to the 552.44."
      ]
    },
    {
      "cell_type": "markdown",
      "metadata": {
        "id": "5CtcL8P8R6yt"
      },
      "source": [
        "## Table of Contents:\n",
        "\n",
        "- Task 1: Imports and Utilities\n",
        "- Task 2: Documents\n",
        "- Task 3: Embeddings and Vectors\n",
        "- Task 4: Prompts\n",
        "- Task 5: Retrieval Augmented Generation\n",
        "  - 🚧 Activity #1: Augment RAG"
      ]
    },
    {
      "cell_type": "markdown",
      "metadata": {
        "id": "1Dz6GYilR6yt"
      },
      "source": [
        "Let's look at a rather complicated looking visual representation of a basic RAG application.\n",
        "\n",
        "<img src=\"https://i.imgur.com/vD8b016.png\" />"
      ]
    },
    {
      "cell_type": "markdown",
      "metadata": {
        "id": "PjmC0KFtR6yt"
      },
      "source": [
        "## Task 1: Imports and Utility\n",
        "\n",
        "We're just doing some imports and enabling `async` to work within the Jupyter environment here, nothing too crazy!"
      ]
    },
    {
      "cell_type": "code",
      "execution_count": 1,
      "metadata": {
        "id": "Z1dyrG4hR6yt"
      },
      "outputs": [],
      "source": [
        "from aimakerspace.text_utils import TextFileLoader, CharacterTextSplitter\n",
        "from aimakerspace.vectordatabase import VectorDatabase\n",
        "import asyncio"
      ]
    },
    {
      "cell_type": "code",
      "execution_count": 2,
      "metadata": {
        "id": "9OrFZRnER6yt"
      },
      "outputs": [],
      "source": [
        "import nest_asyncio\n",
        "nest_asyncio.apply()"
      ]
    },
    {
      "cell_type": "markdown",
      "metadata": {
        "id": "M0jGnpQsR6yu"
      },
      "source": [
        "## Task 2: Documents\n",
        "\n",
        "We'll be concerning ourselves with this part of the flow in the following section:\n",
        "\n",
        "<img src=\"https://i.imgur.com/jTm9gjk.png\" />"
      ]
    },
    {
      "cell_type": "markdown",
      "metadata": {
        "id": "-SFPWvRUR6yu"
      },
      "source": [
        "### Loading Source Documents\n",
        "\n",
        "So, first things first, we need some documents to work with.\n",
        "\n",
        "While we could work directly with the `.txt` files (or whatever file-types you wanted to extend this to) we can instead do some batch processing of those documents at the beginning in order to store them in a more machine compatible format.\n",
        "\n",
        "In this case, we're going to parse our text file into a single document in memory.\n",
        "\n",
        "Let's look at the relevant bits of the `TextFileLoader` class:\n",
        "\n",
        "```python\n",
        "def load_file(self):\n",
        "        with open(self.path, \"r\", encoding=self.encoding) as f:\n",
        "            self.documents.append(f.read())\n",
        "```\n",
        "\n",
        "We're simply loading the document using the built in `open` method, and storing that output in our `self.documents` list.\n",
        "\n",
        "> NOTE: We're using blogs from PMarca (Marc Andreessen) as our sample data. This data is largely irrelevant as we want to focus on the mechanisms of RAG, which includes out data's shape and quality - but not specifically what the contents of the data are. \n"
      ]
    },
    {
      "cell_type": "code",
      "execution_count": 3,
      "metadata": {
        "colab": {
          "base_uri": "https://localhost:8080/"
        },
        "id": "Ia2sUEuGR6yu",
        "outputId": "84937ecc-c35f-4c4a-a4ab-9da72625954c"
      },
      "outputs": [
        {
          "data": {
            "text/plain": [
              "1"
            ]
          },
          "execution_count": 3,
          "metadata": {},
          "output_type": "execute_result"
        }
      ],
      "source": [
        "text_loader = TextFileLoader(\"data/PMarcaBlogs.txt\")\n",
        "documents = text_loader.load_documents()\n",
        "len(documents)"
      ]
    },
    {
      "cell_type": "code",
      "execution_count": 4,
      "metadata": {
        "colab": {
          "base_uri": "https://localhost:8080/"
        },
        "id": "bV-tj5WFR6yu",
        "outputId": "674eb315-1ff3-4597-bcf5-38ece0a812ac"
      },
      "outputs": [
        {
          "name": "stdout",
          "output_type": "stream",
          "text": [
            "\n",
            "The Pmarca Blog Archives\n",
            "(select posts from 2007-2009)\n",
            "Marc Andreessen\n",
            "copyright: Andreessen Horow\n"
          ]
        }
      ],
      "source": [
        "print(documents[0][:100])"
      ]
    },
    {
      "cell_type": "markdown",
      "metadata": {
        "id": "nHlTvCzYR6yu"
      },
      "source": [
        "### Splitting Text Into Chunks\n",
        "\n",
        "As we can see, there is one massive document.\n",
        "\n",
        "We'll want to chunk the document into smaller parts so it's easier to pass the most relevant snippets to the LLM.\n",
        "\n",
        "There is no fixed way to split/chunk documents - and you'll need to rely on some intuition as well as knowing your data *very* well in order to build the most robust system.\n",
        "\n",
        "For this toy example, we'll just split blindly on length.\n",
        "\n",
        ">There's an opportunity to clear up some terminology here, for this course we will be stick to the following:\n",
        ">\n",
        ">- \"source documents\" : The `.txt`, `.pdf`, `.html`, ..., files that make up the files and information we start with in its raw format\n",
        ">- \"document(s)\" : single (or more) text object(s)\n",
        ">- \"corpus\" : the combination of all of our documents"
      ]
    },
    {
      "cell_type": "markdown",
      "metadata": {
        "id": "2G6Voc0jR6yv"
      },
      "source": [
        "As you can imagine (though it's not specifically true in this toy example) the idea of splitting documents is to break them into managable sized chunks that retain the most relevant local context."
      ]
    },
    {
      "cell_type": "code",
      "execution_count": 5,
      "metadata": {
        "colab": {
          "base_uri": "https://localhost:8080/"
        },
        "id": "UMC4tsEmR6yv",
        "outputId": "08689c0b-57cd-4040-942a-8193e997f5cb"
      },
      "outputs": [
        {
          "data": {
            "text/plain": [
              "373"
            ]
          },
          "execution_count": 5,
          "metadata": {},
          "output_type": "execute_result"
        }
      ],
      "source": [
        "text_splitter = CharacterTextSplitter()\n",
        "split_documents = text_splitter.split_texts(documents)\n",
        "len(split_documents)"
      ]
    },
    {
      "cell_type": "markdown",
      "metadata": {
        "id": "W2wKT0WLR6yv"
      },
      "source": [
        "Let's take a look at some of the documents we've managed to split."
      ]
    },
    {
      "cell_type": "code",
      "execution_count": 6,
      "metadata": {
        "colab": {
          "base_uri": "https://localhost:8080/"
        },
        "id": "vcYMwWJoR6yv",
        "outputId": "20d69876-feca-4826-b4be-32915276987a"
      },
      "outputs": [
        {
          "data": {
            "text/plain": [
              "['\\ufeff\\nThe Pmarca Blog Archives\\n(select posts from 2007-2009)\\nMarc Andreessen\\ncopyright: Andreessen Horowitz\\ncover design: Jessica Hagy\\nproduced using: Pressbooks\\nContents\\nTHE PMARCA GUIDE TO STARTUPS\\nPart 1: Why not to do a startup 2\\nPart 2: When the VCs say \"no\" 10\\nPart 3: \"But I don\\'t know any VCs!\" 18\\nPart 4: The only thing that matters 25\\nPart 5: The Moby Dick theory of big companies 33\\nPart 6: How much funding is too little? Too much? 41\\nPart 7: Why a startup\\'s initial business plan doesn\\'t\\nmatter that much\\n49\\nTHE PMARCA GUIDE TO HIRING\\nPart 8: Hiring, managing, promoting, and Dring\\nexecutives\\n54\\nPart 9: How to hire a professional CEO 68\\nHow to hire the best people you\\'ve ever worked\\nwith\\n69\\nTHE PMARCA GUIDE TO BIG COMPANIES\\nPart 1: Turnaround! 82\\nPart 2: Retaining great people 86\\nTHE PMARCA GUIDE TO CAREER, PRODUCTIVITY,\\nAND SOME OTHER THINGS\\nIntroduction 97\\nPart 1: Opportunity 99\\nPart 2: Skills and education 107\\nPart 3: Where to go and why 120\\nThe Pmarca Guide to Personal Productivi']"
            ]
          },
          "execution_count": 6,
          "metadata": {},
          "output_type": "execute_result"
        }
      ],
      "source": [
        "split_documents[0:1]"
      ]
    },
    {
      "cell_type": "markdown",
      "metadata": {
        "id": "HOU-RFP_R6yv"
      },
      "source": [
        "## Task 3: Embeddings and Vectors\n",
        "\n",
        "Next, we have to convert our corpus into a \"machine readable\" format as we explored in the Embedding Primer notebook.\n",
        "\n",
        "Today, we're going to talk about the actual process of creating, and then storing, these embeddings, and how we can leverage that to intelligently add context to our queries."
      ]
    },
    {
      "cell_type": "markdown",
      "metadata": {},
      "source": [
        "### OpenAI API Key\n",
        "\n",
        "In order to access OpenAI's APIs, we'll need to provide our OpenAI API Key!\n",
        "\n",
        "You can work through the folder \"OpenAI API Key Setup\" for more information on this process if you don't already have an API Key!"
      ]
    },
    {
      "cell_type": "code",
      "execution_count": 7,
      "metadata": {},
      "outputs": [],
      "source": [
        "import os\n",
        "import openai\n",
        "from getpass import getpass\n",
        "\n",
        "openai.api_key = getpass(\"OpenAI API Key: \")\n",
        "os.environ[\"OPENAI_API_KEY\"] = openai.api_key"
      ]
    },
    {
      "cell_type": "markdown",
      "metadata": {},
      "source": [
        "### Vector Database\n",
        "\n",
        "Let's set up our vector database to hold all our documents and their embeddings!"
      ]
    },
    {
      "cell_type": "markdown",
      "metadata": {
        "id": "kDQrfAR1R6yv"
      },
      "source": [
        "While this is all baked into 1 call - we can look at some of the code that powers this process to get a better understanding:\n",
        "\n",
        "Let's look at our `VectorDatabase().__init__()`:\n",
        "\n",
        "```python\n",
        "def __init__(self, embedding_model: EmbeddingModel = None):\n",
        "        self.vectors = defaultdict(np.array)\n",
        "        self.embedding_model = embedding_model or EmbeddingModel()\n",
        "```\n",
        "\n",
        "As you can see - our vectors are merely stored as a dictionary of `np.array` objects.\n",
        "\n",
        "Secondly, our `VectorDatabase()` has a default `EmbeddingModel()` which is a wrapper for OpenAI's `text-embedding-3-small` model.\n",
        "\n",
        "> **Quick Info About `text-embedding-3-small`**:\n",
        "> - It has a context window of **8191** tokens\n",
        "> - It returns vectors with dimension **1536**"
      ]
    },
    {
      "cell_type": "markdown",
      "metadata": {
        "id": "L273pRdeR6yv"
      },
      "source": [
        "#### ❓Question #1:\n",
        "\n",
        "The default embedding dimension of `text-embedding-3-small` is 1536, as noted above. \n",
        "\n",
        "1. Is there any way to modify this dimension?\n",
        "2. What technique does OpenAI use to achieve this?\n",
        "\n",
        "> NOTE: Check out this [API documentation](https://platform.openai.com/docs/api-reference/embeddings/create) for the answer to question #1.1, and [this documentation](https://platform.openai.com/docs/guides/embeddings/use-cases) for an answer to question #1.2!\n"
      ]
    },
    {
      "cell_type": "markdown",
      "metadata": {},
      "source": [
        "##### ✅ Answer:\n",
        "1. Yes, you can change the dimension, by defining the dimensions API parameter, when creating the embedding or after generating it. \n",
        "2. OpenAI has achieved this via leveraging Matryoshka Representation Learning (MRL), which encodes information at\n",
        "different granularities and allows a single embedding to adapt to the computational constraints of downstream tasks."
      ]
    },
    {
      "cell_type": "markdown",
      "metadata": {
        "id": "w5FZY7K3R6yv"
      },
      "source": [
        "We can call the `async_get_embeddings` method of our `EmbeddingModel()` on a list of `str` and receive a list of `float` back!\n",
        "\n",
        "```python\n",
        "async def async_get_embeddings(self, list_of_text: List[str]) -> List[List[float]]:\n",
        "        return await aget_embeddings(\n",
        "            list_of_text=list_of_text, engine=self.embeddings_model_name\n",
        "        )\n",
        "```"
      ]
    },
    {
      "cell_type": "markdown",
      "metadata": {
        "id": "cSct6X0aR6yv"
      },
      "source": [
        "We cast those to `np.array` when we build our `VectorDatabase()`:\n",
        "\n",
        "```python\n",
        "async def abuild_from_list(self, list_of_text: List[str]) -> \"VectorDatabase\":\n",
        "        embeddings = await self.embedding_model.async_get_embeddings(list_of_text)\n",
        "        for text, embedding in zip(list_of_text, embeddings):\n",
        "            self.insert(text, np.array(embedding))\n",
        "        return self\n",
        "```\n",
        "\n",
        "And that's all we need to do!"
      ]
    },
    {
      "cell_type": "code",
      "execution_count": 8,
      "metadata": {
        "id": "O4KoLbVDR6yv"
      },
      "outputs": [],
      "source": [
        "vector_db = VectorDatabase()\n",
        "vector_db = asyncio.run(vector_db.abuild_from_list(split_documents))"
      ]
    },
    {
      "cell_type": "markdown",
      "metadata": {
        "id": "SSZwaGvpR6yv"
      },
      "source": [
        "#### ❓Question #2:\n",
        "\n",
        "What are the benefits of using an `async` approach to collecting our embeddings?\n",
        "\n",
        "> NOTE: Determining the core difference between `async` and `sync` will be useful! If you get stuck - ask ChatGPT!"
      ]
    },
    {
      "cell_type": "markdown",
      "metadata": {},
      "source": [
        "##### ✅ Answer: Speed and resource optimizations. It can also help parallalize requests instead of sequentially waiting for them to happen. \n"
      ]
    },
    {
      "cell_type": "markdown",
      "metadata": {
        "id": "nRBdIt-xR6yw"
      },
      "source": [
        "So, to review what we've done so far in natural language:\n",
        "\n",
        "1. We load source documents\n",
        "2. We split those source documents into smaller chunks (documents)\n",
        "3. We send each of those documents to the `text-embedding-3-small` OpenAI API endpoint\n",
        "4. We store each of the text representations with the vector representations as keys/values in a dictionary"
      ]
    },
    {
      "cell_type": "markdown",
      "metadata": {
        "id": "4-vWANZyR6yw"
      },
      "source": [
        "### Semantic Similarity\n",
        "\n",
        "The next step is to be able to query our `VectorDatabase()` with a `str` and have it return to us vectors and text that is most relevant from our corpus.\n",
        "\n",
        "We're going to use the following process to achieve this in our toy example:\n",
        "\n",
        "1. We need to embed our query with the same `EmbeddingModel()` as we used to construct our `VectorDatabase()`\n",
        "2. We loop through every vector in our `VectorDatabase()` and use a distance measure to compare how related they are\n",
        "3. We return a list of the top `k` closest vectors, with their text representations\n",
        "\n",
        "There's some very heavy optimization that can be done at each of these steps - but let's just focus on the basic pattern in this notebook.\n",
        "\n",
        "> We are using [cosine similarity](https://www.engati.com/glossary/cosine-similarity) as a distance metric in this example - but there are many many distance metrics you could use - like [these](https://flavien-vidal.medium.com/similarity-distances-for-natural-language-processing-16f63cd5ba55)\n",
        "\n",
        "> We are using a rather inefficient way of calculating relative distance between the query vector and all other vectors - there are more advanced approaches that are much more efficient, like [ANN](https://towardsdatascience.com/comprehensive-guide-to-approximate-nearest-neighbors-algorithms-8b94f057d6b6)"
      ]
    },
    {
      "cell_type": "code",
      "execution_count": 9,
      "metadata": {
        "colab": {
          "base_uri": "https://localhost:8080/"
        },
        "id": "76d96uavR6yw",
        "outputId": "bbfccc31-20a2-41c7-c14d-46554a43ed2d"
      },
      "outputs": [
        {
          "data": {
            "text/plain": [
              "[('ordingly.\\nSeventh, when hiring the executive to run your former specialty, be\\ncareful you don’t hire someone weak on purpose.\\nThis sounds silly, but you wouldn’t believe how oaen it happens.\\nThe CEO who used to be a product manager who has a weak\\nproduct management executive. The CEO who used to be in\\nsales who has a weak sales executive. The CEO who used to be\\nin marketing who has a weak marketing executive.\\nI call this the “Michael Eisner Memorial Weak Executive Problem” — aaer the CEO of Disney who had previously been a brilliant TV network executive. When he bought ABC at Disney, it\\npromptly fell to fourth place. His response? “If I had an extra\\ntwo days a week, I could turn around ABC myself.” Well, guess\\nwhat, he didn’t have an extra two days a week.\\nA CEO — or a startup founder — oaen has a hard time letting\\ngo of the function that brought him to the party. The result: you\\nhire someone weak into the executive role for that function so\\nthat you can continue to be “the man” — cons',\n",
              "  np.float64(0.6538563767462549)),\n",
              " ('m. They have areas where they are truly deXcient in judgment or skill set. That’s just life. Almost nobody is brilliant\\nat everything. When hiring and when Hring executives, you\\nmust therefore focus on strength rather than lack of weakness. Everybody has severe weaknesses even if you can’t see\\nthem yet. When managing, it’s oaen useful to micromanage and\\nto provide remedial training around these weaknesses. Doing so\\nmay make the diWerence between an executive succeeding or\\nfailing.\\nFor example, you might have a brilliant engineering executive\\nwho generates excellent team loyalty, has terriXc product judgment and makes the trains run on time. This same executive\\nmay be very poor at relating to the other functions in the company. She may generate far more than her share of cross-functional conYicts, cut herself oW from critical information, and\\nsigniXcantly impede your ability to sell and market eWectively.\\nYour alternatives are:\\n(a) Macro-manage and give her an annual or quarterly object',\n",
              "  np.float64(0.5036012174947994)),\n",
              " ('ed?\\nIn reality — as opposed to Marc’s warped view of reality — it will\\nbe extremely helpful for Marc [if he were actually the CEO,\\nwhich he is not] to meet with the new head of engineering daily\\nwhen she comes on board and review all of her thinking and\\ndecisions. This level of micromanagement will accelerate her\\ntraining and improve her long-term eWectiveness. It will make\\nher seem smarter to the rest of the organization which will build\\ncredibility and conXdence while she comes up to speed. Micromanaging new executives is generally a good idea for a limited\\nperiod of time.\\nHowever, that is not the only time that it makes sense to micro66 The Pmarca Blog Archives\\nmanage executives. It turns out that just about every executive\\nin the world has a few things that are seriously wrong with\\nthem. They have areas where they are truly deXcient in judgment or skill set. That’s just life. Almost nobody is brilliant\\nat everything. When hiring and when Hring executives, you\\nmust therefore focus o',\n",
              "  np.float64(0.481410259497753))]"
            ]
          },
          "execution_count": 9,
          "metadata": {},
          "output_type": "execute_result"
        }
      ],
      "source": [
        "vector_db.search_by_text(\"What is the Michael Eisner Memorial Weak Executive Problem?\", k=3)"
      ]
    },
    {
      "cell_type": "markdown",
      "metadata": {
        "id": "TehsfIiKR6yw"
      },
      "source": [
        "## Task 4: Prompts\n",
        "\n",
        "In the following section, we'll be looking at the role of prompts - and how they help us to guide our application in the right direction.\n",
        "\n",
        "In this notebook, we're going to rely on the idea of \"zero-shot in-context learning\".\n",
        "\n",
        "This is a lot of words to say: \"We will ask it to perform our desired task in the prompt, and provide no examples.\""
      ]
    },
    {
      "cell_type": "markdown",
      "metadata": {
        "id": "yXpA0UveR6yw"
      },
      "source": [
        "### XYZRolePrompt\n",
        "\n",
        "Before we do that, let's stop and think a bit about how OpenAI's chat models work.\n",
        "\n",
        "We know they have roles - as is indicated in the following API [documentation](https://platform.openai.com/docs/api-reference/chat/create#chat/create-messages)\n",
        "\n",
        "There are three roles, and they function as follows (taken directly from [OpenAI](https://platform.openai.com/docs/guides/gpt/chat-completions-api)):\n",
        "\n",
        "- `{\"role\" : \"system\"}` : The system message helps set the behavior of the assistant. For example, you can modify the personality of the assistant or provide specific instructions about how it should behave throughout the conversation. However note that the system message is optional and the model’s behavior without a system message is likely to be similar to using a generic message such as \"You are a helpful assistant.\"\n",
        "- `{\"role\" : \"user\"}` : The user messages provide requests or comments for the assistant to respond to.\n",
        "- `{\"role\" : \"assistant\"}` : Assistant messages store previous assistant responses, but can also be written by you to give examples of desired behavior.\n",
        "\n",
        "The main idea is this:\n",
        "\n",
        "1. You start with a system message that outlines how the LLM should respond, what kind of behaviours you can expect from it, and more\n",
        "2. Then, you can provide a few examples in the form of \"assistant\"/\"user\" pairs\n",
        "3. Then, you prompt the model with the true \"user\" message.\n",
        "\n",
        "In this example, we'll be forgoing the 2nd step for simplicities sake."
      ]
    },
    {
      "cell_type": "markdown",
      "metadata": {
        "id": "gdZ2KWKSR6yw"
      },
      "source": [
        "#### Utility Functions\n",
        "\n",
        "You'll notice that we're using some utility functions from the `aimakerspace` module - let's take a peek at these and see what they're doing!"
      ]
    },
    {
      "cell_type": "markdown",
      "metadata": {
        "id": "GFbeJDDsR6yw"
      },
      "source": [
        "##### XYZRolePrompt"
      ]
    },
    {
      "cell_type": "markdown",
      "metadata": {
        "id": "5mojJSE3R6yw"
      },
      "source": [
        "Here we have our `system`, `user`, and `assistant` role prompts.\n",
        "\n",
        "Let's take a peek at what they look like:\n",
        "\n",
        "```python\n",
        "class BasePrompt:\n",
        "    def __init__(self, prompt):\n",
        "        \"\"\"\n",
        "        Initializes the BasePrompt object with a prompt template.\n",
        "\n",
        "        :param prompt: A string that can contain placeholders within curly braces\n",
        "        \"\"\"\n",
        "        self.prompt = prompt\n",
        "        self._pattern = re.compile(r\"\\{([^}]+)\\}\")\n",
        "\n",
        "    def format_prompt(self, **kwargs):\n",
        "        \"\"\"\n",
        "        Formats the prompt string using the keyword arguments provided.\n",
        "\n",
        "        :param kwargs: The values to substitute into the prompt string\n",
        "        :return: The formatted prompt string\n",
        "        \"\"\"\n",
        "        matches = self._pattern.findall(self.prompt)\n",
        "        return self.prompt.format(**{match: kwargs.get(match, \"\") for match in matches})\n",
        "\n",
        "    def get_input_variables(self):\n",
        "        \"\"\"\n",
        "        Gets the list of input variable names from the prompt string.\n",
        "\n",
        "        :return: List of input variable names\n",
        "        \"\"\"\n",
        "        return self._pattern.findall(self.prompt)\n",
        "```\n",
        "\n",
        "Then we have our `RolePrompt` which laser focuses us on the role pattern found in most API endpoints for LLMs.\n",
        "\n",
        "```python\n",
        "class RolePrompt(BasePrompt):\n",
        "    def __init__(self, prompt, role: str):\n",
        "        \"\"\"\n",
        "        Initializes the RolePrompt object with a prompt template and a role.\n",
        "\n",
        "        :param prompt: A string that can contain placeholders within curly braces\n",
        "        :param role: The role for the message ('system', 'user', or 'assistant')\n",
        "        \"\"\"\n",
        "        super().__init__(prompt)\n",
        "        self.role = role\n",
        "\n",
        "    def create_message(self, **kwargs):\n",
        "        \"\"\"\n",
        "        Creates a message dictionary with a role and a formatted message.\n",
        "\n",
        "        :param kwargs: The values to substitute into the prompt string\n",
        "        :return: Dictionary containing the role and the formatted message\n",
        "        \"\"\"\n",
        "        return {\"role\": self.role, \"content\": self.format_prompt(**kwargs)}\n",
        "```\n",
        "\n",
        "We'll look at how the `SystemRolePrompt` is constructed to get a better idea of how that extension works:\n",
        "\n",
        "```python\n",
        "class SystemRolePrompt(RolePrompt):\n",
        "    def __init__(self, prompt: str):\n",
        "        super().__init__(prompt, \"system\")\n",
        "```\n",
        "\n",
        "That pattern is repeated for our `UserRolePrompt` and our `AssistantRolePrompt` as well."
      ]
    },
    {
      "cell_type": "markdown",
      "metadata": {
        "id": "D361R6sMR6yw"
      },
      "source": [
        "##### ChatOpenAI"
      ]
    },
    {
      "cell_type": "markdown",
      "metadata": {
        "id": "HJVQ2Pm8R6yw"
      },
      "source": [
        "Next we have our model, which is converted to a format analagous to libraries like LangChain and LlamaIndex.\n",
        "\n",
        "Let's take a peek at how that is constructed:\n",
        "\n",
        "```python\n",
        "class ChatOpenAI:\n",
        "    def __init__(self, model_name: str = \"gpt-4.1-mini\"):\n",
        "        self.model_name = model_name\n",
        "        self.openai_api_key = os.getenv(\"OPENAI_API_KEY\")\n",
        "        if self.openai_api_key is None:\n",
        "            raise ValueError(\"OPENAI_API_KEY is not set\")\n",
        "\n",
        "    def run(self, messages, text_only: bool = True):\n",
        "        if not isinstance(messages, list):\n",
        "            raise ValueError(\"messages must be a list\")\n",
        "\n",
        "        openai.api_key = self.openai_api_key\n",
        "        response = openai.ChatCompletion.create(\n",
        "            model=self.model_name, messages=messages\n",
        "        )\n",
        "\n",
        "        if text_only:\n",
        "            return response.choices[0].message.content\n",
        "\n",
        "        return response\n",
        "```"
      ]
    },
    {
      "cell_type": "markdown",
      "metadata": {
        "id": "qCU7FfhIR6yw"
      },
      "source": [
        "#### ❓ Question #3:\n",
        "\n",
        "When calling the OpenAI API - are there any ways we can achieve more reproducible outputs?\n",
        "\n",
        "> NOTE: Check out [this section](https://platform.openai.com/docs/guides/text-generation/) of the OpenAI documentation for the answer!"
      ]
    },
    {
      "cell_type": "markdown",
      "metadata": {},
      "source": [
        "##### ✅ Answer: Yes, you can use message roles, pin model snapshots, build evals to measure prompt performance etc. \n"
      ]
    },
    {
      "cell_type": "markdown",
      "metadata": {
        "id": "c5wcjMLCR6yw"
      },
      "source": [
        "### Creating and Prompting OpenAI's `gpt-4.1-mini`!\n",
        "\n",
        "Let's tie all these together and use it to prompt `gpt-4.1-mini`!"
      ]
    },
    {
      "cell_type": "code",
      "execution_count": 10,
      "metadata": {
        "id": "WIfpIot7R6yw"
      },
      "outputs": [],
      "source": [
        "from aimakerspace.openai_utils.prompts import (\n",
        "    UserRolePrompt,\n",
        "    SystemRolePrompt,\n",
        "    AssistantRolePrompt,\n",
        ")\n",
        "\n",
        "from aimakerspace.openai_utils.chatmodel import ChatOpenAI\n",
        "\n",
        "chat_openai = ChatOpenAI()\n",
        "user_prompt_template = \"{content}\"\n",
        "user_role_prompt = UserRolePrompt(user_prompt_template)\n",
        "system_prompt_template = (\n",
        "    \"You are an expert in {expertise}, you always answer in a kind way.\"\n",
        ")\n",
        "system_role_prompt = SystemRolePrompt(system_prompt_template)\n",
        "\n",
        "messages = [\n",
        "    system_role_prompt.create_message(expertise=\"Python\"),\n",
        "    user_role_prompt.create_message(\n",
        "        content=\"What is the best way to write a loop?\"\n",
        "    ),\n",
        "]\n",
        "\n",
        "response = chat_openai.run(messages)"
      ]
    },
    {
      "cell_type": "code",
      "execution_count": 11,
      "metadata": {
        "colab": {
          "base_uri": "https://localhost:8080/"
        },
        "id": "dHo7lssNR6yw",
        "outputId": "1d3823fa-bb6b-45f6-ddba-b41686388324"
      },
      "outputs": [
        {
          "name": "stdout",
          "output_type": "stream",
          "text": [
            "Hello! The \"best\" way to write a loop in Python depends on what you're trying to achieve, but I’d be happy to share some general guidelines and examples.\n",
            "\n",
            "### For simple iterations over sequences (like lists, strings, or ranges), using a `for` loop is usually the most Pythonic and clear:\n",
            "\n",
            "```python\n",
            "for item in sequence:\n",
            "    # do something with item\n",
            "```\n",
            "\n",
            "Example:\n",
            "\n",
            "```python\n",
            "fruits = ['apple', 'banana', 'cherry']\n",
            "for fruit in fruits:\n",
            "    print(f\"I like {fruit}\")\n",
            "```\n",
            "\n",
            "### If you need to repeat something a fixed number of times, you can use `range()` with a `for` loop:\n",
            "\n",
            "```python\n",
            "for i in range(5):\n",
            "    print(i)\n",
            "```\n",
            "\n",
            "### If you need a loop based on a condition (rather than a fixed number of iterations), a `while` loop is appropriate:\n",
            "\n",
            "```python\n",
            "count = 0\n",
            "while count < 5:\n",
            "    print(count)\n",
            "    count += 1\n",
            "```\n",
            "\n",
            "### Tips for writing good loops:\n",
            "- Choose `for` loops for iterating over items, `while` loops for conditional repeating.\n",
            "- Keep the loop body simple and readable.\n",
            "- Avoid modifying the list you're iterating over inside the loop unless necessary.\n",
            "- Use functions or comprehensions if they make your code cleaner.\n",
            "\n",
            "If you have a specific task or example in mind, I’d be glad to help craft the best loop for that! 😊\n"
          ]
        }
      ],
      "source": [
        "print(response)"
      ]
    },
    {
      "cell_type": "markdown",
      "metadata": {
        "id": "r2nxxhB2R6yy"
      },
      "source": [
        "## Task 5: Retrieval Augmented Generation\n",
        "\n",
        "Now we can create a RAG prompt - which will help our system behave in a way that makes sense!\n",
        "\n",
        "There is much you could do here, many tweaks and improvements to be made!"
      ]
    },
    {
      "cell_type": "code",
      "execution_count": 12,
      "metadata": {
        "id": "D1hamzGaR6yy"
      },
      "outputs": [],
      "source": [
        "RAG_SYSTEM_TEMPLATE = \"\"\"You are a knowledgeable assistant that answers questions based strictly on provided context.\n",
        "\n",
        "Instructions:\n",
        "- Only answer questions using information from the provided context\n",
        "- If the context doesn't contain relevant information, respond with \"I don't know\"\n",
        "- Be accurate and cite specific parts of the context when possible\n",
        "- Keep responses {response_style} and {response_length}\n",
        "- Only use the provided context. Do not use external knowledge.\n",
        "- Only provide answers when you are confident the context supports your response.\"\"\"\n",
        "\n",
        "RAG_USER_TEMPLATE = \"\"\"Context Information:\n",
        "{context}\n",
        "\n",
        "Number of relevant sources found: {context_count}\n",
        "{similarity_scores}\n",
        "\n",
        "Question: {user_query}\n",
        "\n",
        "Please provide your answer based solely on the context above.\"\"\"\n",
        "\n",
        "rag_system_prompt = SystemRolePrompt(\n",
        "    RAG_SYSTEM_TEMPLATE,\n",
        "    strict=True,\n",
        "    defaults={\n",
        "        \"response_style\": \"concise\",\n",
        "        \"response_length\": \"brief\"\n",
        "    }\n",
        ")\n",
        "\n",
        "rag_user_prompt = UserRolePrompt(\n",
        "    RAG_USER_TEMPLATE,\n",
        "    strict=True,\n",
        "    defaults={\n",
        "        \"context_count\": \"\",\n",
        "        \"similarity_scores\": \"\"\n",
        "    }\n",
        ")"
      ]
    },
    {
      "cell_type": "markdown",
      "metadata": {},
      "source": [
        "Now we can create our pipeline!"
      ]
    },
    {
      "cell_type": "code",
      "execution_count": 13,
      "metadata": {},
      "outputs": [],
      "source": [
        "class RetrievalAugmentedQAPipeline:\n",
        "    def __init__(self, llm: ChatOpenAI, vector_db_retriever: VectorDatabase, \n",
        "                 response_style: str = \"detailed\", include_scores: bool = False) -> None:\n",
        "        self.llm = llm\n",
        "        self.vector_db_retriever = vector_db_retriever\n",
        "        self.response_style = response_style\n",
        "        self.include_scores = include_scores\n",
        "\n",
        "    def run_pipeline(self, user_query: str, k: int = 4, **system_kwargs) -> dict:\n",
        "        # Retrieve relevant contexts\n",
        "        context_list = self.vector_db_retriever.search_by_text(user_query, k=k)\n",
        "        \n",
        "        context_prompt = \"\"\n",
        "        similarity_scores = []\n",
        "        \n",
        "        for i, (context, score) in enumerate(context_list, 1):\n",
        "            context_prompt += f\"[Source {i}]: {context}\\n\\n\"\n",
        "            similarity_scores.append(f\"Source {i}: {score:.3f}\")\n",
        "        \n",
        "        # Create system message with parameters\n",
        "        system_params = {\n",
        "            \"response_style\": self.response_style,\n",
        "            \"response_length\": system_kwargs.get(\"response_length\", \"detailed\")\n",
        "        }\n",
        "        \n",
        "        formatted_system_prompt = rag_system_prompt.create_message(**system_params)\n",
        "        \n",
        "        user_params = {\n",
        "            \"user_query\": user_query,\n",
        "            \"context\": context_prompt.strip(),\n",
        "            \"context_count\": len(context_list),\n",
        "            \"similarity_scores\": f\"Relevance scores: {', '.join(similarity_scores)}\" if self.include_scores else \"\"\n",
        "        }\n",
        "        \n",
        "        formatted_user_prompt = rag_user_prompt.create_message(**user_params)\n",
        "\n",
        "        return {\n",
        "            \"response\": self.llm.run([formatted_system_prompt, formatted_user_prompt]), \n",
        "            \"context\": context_list,\n",
        "            \"context_count\": len(context_list),\n",
        "            \"similarity_scores\": similarity_scores if self.include_scores else None,\n",
        "            \"prompts_used\": {\n",
        "                \"system\": formatted_system_prompt,\n",
        "                \"user\": formatted_user_prompt\n",
        "            }\n",
        "        }"
      ]
    },
    {
      "cell_type": "code",
      "execution_count": 14,
      "metadata": {},
      "outputs": [
        {
          "name": "stdout",
          "output_type": "stream",
          "text": [
            "Response: The \"Michael Eisner Memorial Weak Executive Problem\" refers to the situation where a CEO, who previously excelled in a particular function (such as product management, sales, or marketing), hires a weak executive to run that same function. This occurs because the CEO has difficulty letting go of the responsibility that originally brought them success and wants to continue being \"the man\" in that area. A cited example is Michael Eisner, the CEO of Disney, who had been a brilliant TV network executive. When he bought ABC at Disney, ABC fell to fourth place, and Eisner responded that he could turn it around himself if he had extra time—time he didn't have. This problem highlights how CEOs sometimes deliberately hire weak executives in their former specialty, leading to suboptimal leadership in that function. (Source 1)\n",
            "\n",
            "Context Count: 3\n",
            "Similarity Scores: ['Source 1: 0.658', 'Source 2: 0.509', 'Source 3: 0.479']\n"
          ]
        }
      ],
      "source": [
        "rag_pipeline = RetrievalAugmentedQAPipeline(\n",
        "    vector_db_retriever=vector_db,\n",
        "    llm=chat_openai,\n",
        "    response_style=\"detailed\",\n",
        "    include_scores=True\n",
        ")\n",
        "\n",
        "result = rag_pipeline.run_pipeline(\n",
        "    \"What is the 'Michael Eisner Memorial Weak Executive Problem'?\",\n",
        "    k=3,\n",
        "    response_length=\"comprehensive\", \n",
        "    include_warnings=True,\n",
        "    confidence_required=True\n",
        ")\n",
        "\n",
        "print(f\"Response: {result['response']}\")\n",
        "print(f\"\\nContext Count: {result['context_count']}\")\n",
        "print(f\"Similarity Scores: {result['similarity_scores']}\")"
      ]
    },
    {
      "cell_type": "markdown",
      "metadata": {
        "id": "zZIJI19uR6yz"
      },
      "source": [
        "#### ❓ Question #4:\n",
        "\n",
        "What prompting strategies could you use to make the LLM have a more thoughtful, detailed response?\n",
        "\n",
        "What is that strategy called?\n",
        "\n",
        "> NOTE: You can look through our [OpenAI Responses API](https://colab.research.google.com/drive/14SCfRnp39N7aoOx8ZxadWb0hAqk4lQdL?usp=sharing) notebook for an answer to this question if you get stuck!"
      ]
    },
    {
      "cell_type": "markdown",
      "metadata": {},
      "source": [
        "##### ✅ Answer: The strategy is called prompt engineering\n",
        "- Define a level of reasoning effort (Controls how much computational effort the model puts into reasoning)\n",
        "- Define instructions (Developer-level instructions that guide the model's behavior)\n",
        "- Define text verbosity (Control output verbosity for concise responses)\n",
        "\n"
      ]
    },
    {
      "cell_type": "markdown",
      "metadata": {},
      "source": [
        "### 🏗️ Activity #1:\n",
        "\n",
        "Enhance your RAG application in some way! \n",
        "\n",
        "Suggestions are: \n",
        "\n",
        "- Allow it to work with PDF files\n",
        "- Implement a new distance metric\n",
        "- Add metadata support to the vector database\n",
        "- Use a different embedding model\n",
        "- Add the capability to ingest a YouTube link\n",
        "\n",
        "While these are suggestions, you should feel free to make whatever augmentations you desire! If you shared an idea during Session 1, think about features you might need to incorporate for your use case! \n",
        "\n",
        "When you're finished making the augments to your RAG application - vibe check it against the old one - see if you can \"feel the improvement\"!\n",
        "\n",
        "> NOTE: These additions might require you to work within the `aimakerspace` library - that's expected!\n",
        "\n",
        "> NOTE: If you're not sure where to start - ask Cursor (CMD/CTRL+L) to guide you through the changes!"
      ]
    },
    {
      "cell_type": "markdown",
      "metadata": {},
      "source": [
        "### Step 1: Implement Multiple Distance Metrics"
      ]
    },
    {
      "cell_type": "code",
      "execution_count": 28,
      "metadata": {},
      "outputs": [],
      "source": [
        "import numpy as np\n",
        "from scipy.spatial.distance import euclidean\n",
        "from typing import List, Tuple"
      ]
    },
    {
      "cell_type": "code",
      "execution_count": 35,
      "metadata": {},
      "outputs": [],
      "source": [
        "class DistanceMetrics:\n",
        "    \"\"\"Collection of three key distance metrics for vector similarity\"\"\"\n",
        "    \n",
        "    @staticmethod\n",
        "    def cosine_similarity(vector_a: np.array, vector_b: np.array) -> float:\n",
        "        \"\"\"Computes the cosine similarity between two vectors (higher = more similar)\"\"\"\n",
        "        dot_product = np.dot(vector_a, vector_b)\n",
        "        norm_a = np.linalg.norm(vector_a)\n",
        "        norm_b = np.linalg.norm(vector_b)\n",
        "        \n",
        "        if norm_a == 0 or norm_b == 0:\n",
        "            return 0.0\n",
        "        \n",
        "        return dot_product / (norm_a * norm_b)\n",
        "    \n",
        "    @staticmethod\n",
        "    def euclidean_similarity(vector_a: np.array, vector_b: np.array) -> float:\n",
        "        \"\"\"Computes the Euclidean similarity (1 / (1 + distance)) (higher = more similar)\"\"\"\n",
        "        distance = euclidean(vector_a, vector_b)\n",
        "        return 1 / (1 + distance)\n",
        "    \n",
        "    @staticmethod\n",
        "    def jaccard_similarity(vector_a: np.array, vector_b: np.array) -> float:\n",
        "        \"\"\"Computes the Jaccard similarity for binary vectors (higher = more similar)\"\"\"\n",
        "        # Convert to binary vectors (threshold at 0)\n",
        "        binary_a = (vector_a > 0).astype(int)\n",
        "        binary_b = (vector_b > 0).astype(int)\n",
        "        \n",
        "        intersection = np.sum(binary_a & binary_b)\n",
        "        union = np.sum(binary_a | binary_b)\n",
        "        \n",
        "        if union == 0:\n",
        "            return 0.0\n",
        "        \n",
        "        return intersection / union\n",
        "\n",
        "# 3 Distance Metrics - Cosine, Euclidean, Jaccard\n",
        "DISTANCE_METRICS = {\n",
        "    'cosine_similarity': DistanceMetrics.cosine_similarity,\n",
        "    'euclidean_similarity': DistanceMetrics.euclidean_similarity,\n",
        "    'jaccard_similarity': DistanceMetrics.jaccard_similarity\n",
        "}\n"
      ]
    },
    {
      "cell_type": "markdown",
      "metadata": {},
      "source": [
        "### Step 2: Enhanced Vector Database with Multiple Distance Metrics\n"
      ]
    },
    {
      "cell_type": "code",
      "execution_count": 36,
      "metadata": {},
      "outputs": [],
      "source": [
        "class EnhancedVectorDatabase(VectorDatabase):\n",
        "    \"\"\"Enhanced Vector Database with support for multiple distance metrics\"\"\"\n",
        "    \n",
        "    def __init__(self, embedding_model=None, default_metric='cosine_similarity'):\n",
        "        super().__init__(embedding_model)\n",
        "        self.default_metric = default_metric\n",
        "        self.available_metrics = DISTANCE_METRICS\n",
        "    \n",
        "    def search_with_metric(self, query_vector: np.array, k: int, \n",
        "                          distance_metric: str = None) -> List[Tuple[str, float]]:\n",
        "        \"\"\"Search using a specific distance metric\"\"\"\n",
        "        metric_name = distance_metric or self.default_metric\n",
        "        \n",
        "        if metric_name not in self.available_metrics:\n",
        "            raise ValueError(f\"Unknown metric: {metric_name}. Available: {list(self.available_metrics.keys())}\")\n",
        "        \n",
        "        metric_func = self.available_metrics[metric_name]\n",
        "        \n",
        "        scores = [\n",
        "            (key, metric_func(query_vector, vector))\n",
        "            for key, vector in self.vectors.items()\n",
        "        ]\n",
        "        \n",
        "        # Sort based on whether it's a similarity (higher is better) or distance (lower is better)\n",
        "        if 'distance' in metric_name:\n",
        "            # For distance metrics, lower is better\n",
        "            return sorted(scores, key=lambda x: x[1])[:k]\n",
        "        else:\n",
        "            # For similarity metrics, higher is better\n",
        "            return sorted(scores, key=lambda x: x[1], reverse=True)[:k]\n",
        "    \n",
        "    def search_by_text_with_metric(self, query_text: str, k: int, \n",
        "                                  distance_metric: str = None) -> List[Tuple[str, float]]:\n",
        "        \"\"\"Search by text using a specific distance metric\"\"\"\n",
        "        query_vector = self.embedding_model.get_embedding(query_text)\n",
        "        return self.search_with_metric(query_vector, k, distance_metric)\n",
        "    \n",
        "    def compare_metrics(self, query_text: str, k: int = 3) -> dict:\n",
        "        \"\"\"Compare results across all available distance metrics\"\"\"\n",
        "        results = {}\n",
        "        \n",
        "        for metric_name in self.available_metrics.keys():\n",
        "            try:\n",
        "                results[metric_name] = self.search_by_text_with_metric(\n",
        "                    query_text, k, metric_name\n",
        "                )\n",
        "            except Exception as e:\n",
        "                results[metric_name] = f\"Error: {str(e)}\"\n",
        "        \n",
        "        return results\n",
        "    \n",
        "    def get_metric_info(self, metric_name: str) -> dict:\n",
        "        \"\"\"Get information about a specific metric\"\"\"\n",
        "        if metric_name not in self.available_metrics:\n",
        "            return {\"error\": f\"Unknown metric: {metric_name}\"}\n",
        "        \n",
        "        metric_func = self.available_metrics[metric_name]\n",
        "        is_distance = 'distance' in metric_name\n",
        "        \n",
        "        return {\n",
        "            \"name\": metric_name,\n",
        "            \"type\": \"distance\" if is_distance else \"similarity\",\n",
        "            \"direction\": \"lower is better\" if is_distance else \"higher is better\",\n",
        "            \"description\": metric_func.__doc__ or \"No description available\"\n",
        "        }\n"
      ]
    },
    {
      "cell_type": "markdown",
      "metadata": {},
      "source": [
        "### Step 3: Enhanced RAG Pipeline with Distance Metric Selection\n"
      ]
    },
    {
      "cell_type": "code",
      "execution_count": 37,
      "metadata": {},
      "outputs": [],
      "source": [
        "class EnhancedRAGPipeline(RetrievalAugmentedQAPipeline):\n",
        "    \"\"\"Enhanced RAG Pipeline with support for multiple distance metrics\"\"\"\n",
        "    \n",
        "    def __init__(self, llm: ChatOpenAI, vector_db_retriever: EnhancedVectorDatabase, \n",
        "                 response_style: str = \"detailed\", include_scores: bool = False,\n",
        "                 distance_metric: str = 'cosine_similarity') -> None:\n",
        "        super().__init__(llm, vector_db_retriever, response_style, include_scores)\n",
        "        self.distance_metric = distance_metric\n",
        "    \n",
        "    def run_pipeline_with_metric(self, user_query: str, k: int = 4, \n",
        "                                distance_metric: str = None, **system_kwargs) -> dict:\n",
        "        \"\"\"Run the RAG pipeline with a specific distance metric\"\"\"\n",
        "        metric = distance_metric or self.distance_metric\n",
        "        \n",
        "        # Retrieve relevant contexts using the specified metric\n",
        "        context_list = self.vector_db_retriever.search_by_text_with_metric(\n",
        "            user_query, k=k, distance_metric=metric\n",
        "        )\n",
        "        \n",
        "        context_prompt = \"\"\n",
        "        similarity_scores = []\n",
        "        \n",
        "        for i, (context, score) in enumerate(context_list, 1):\n",
        "            context_prompt += f\"[Source {i}]: {context}\\n\\n\"\n",
        "            similarity_scores.append(f\"Source {i}: {score:.3f}\")\n",
        "        \n",
        "        # Create system message with parameters\n",
        "        system_params = {\n",
        "            \"response_style\": self.response_style,\n",
        "            \"response_length\": system_kwargs.get(\"response_length\", \"detailed\")\n",
        "        }\n",
        "        \n",
        "        formatted_system_prompt = rag_system_prompt.create_message(**system_params)\n",
        "        \n",
        "        user_params = {\n",
        "            \"user_query\": user_query,\n",
        "            \"context\": context_prompt.strip(),\n",
        "            \"context_count\": len(context_list),\n",
        "            \"similarity_scores\": f\"Relevance scores ({metric}): {', '.join(similarity_scores)}\" if self.include_scores else \"\"\n",
        "        }\n",
        "        \n",
        "        formatted_user_prompt = rag_user_prompt.create_message(**user_params)\n",
        "\n",
        "        return {\n",
        "            \"response\": self.llm.run([formatted_system_prompt, formatted_user_prompt]), \n",
        "            \"context\": context_list,\n",
        "            \"context_count\": len(context_list),\n",
        "            \"similarity_scores\": similarity_scores if self.include_scores else None,\n",
        "            \"distance_metric\": metric,\n",
        "            \"prompts_used\": {\n",
        "                \"system\": formatted_system_prompt,\n",
        "                \"user\": formatted_user_prompt\n",
        "            }\n",
        "        }\n",
        "    \n",
        "    def compare_metrics_performance(self, user_query: str, k: int = 3) -> dict:\n",
        "        \"\"\"Compare performance across different distance metrics\"\"\"\n",
        "        results = {}\n",
        "        \n",
        "        for metric_name in self.vector_db_retriever.available_metrics.keys():\n",
        "            try:\n",
        "                result = self.run_pipeline_with_metric(\n",
        "                    user_query, k=k, distance_metric=metric_name\n",
        "                )\n",
        "                results[metric_name] = {\n",
        "                    \"response\": result[\"response\"],\n",
        "                    \"context_count\": result[\"context_count\"],\n",
        "                    \"similarity_scores\": result[\"similarity_scores\"],\n",
        "                    \"top_context\": result[\"context\"][0][0][:100] + \"...\" if result[\"context\"] else \"No context\"\n",
        "                }\n",
        "            except Exception as e:\n",
        "                results[metric_name] = {\"error\": str(e)}\n",
        "        \n",
        "        return results\n"
      ]
    },
    {
      "cell_type": "markdown",
      "metadata": {},
      "source": [
        "### Step 4: Demonstration and Testing\n"
      ]
    },
    {
      "cell_type": "code",
      "execution_count": 38,
      "metadata": {},
      "outputs": [
        {
          "name": "stdout",
          "output_type": "stream",
          "text": [
            "Enhanced RAG Pipeline created successfully!\n",
            "Available distance metrics: ['cosine_similarity', 'euclidean_similarity', 'jaccard_similarity']\n"
          ]
        }
      ],
      "source": [
        "# Create enhanced vector database\n",
        "enhanced_vector_db = EnhancedVectorDatabase()\n",
        "enhanced_vector_db = asyncio.run(enhanced_vector_db.abuild_from_list(split_documents))\n",
        "\n",
        "# Create enhanced RAG pipeline\n",
        "enhanced_rag = EnhancedRAGPipeline(\n",
        "    vector_db_retriever=enhanced_vector_db,\n",
        "    llm=chat_openai,\n",
        "    response_style=\"detailed\",\n",
        "    include_scores=True,\n",
        "    distance_metric='cosine_similarity'\n",
        ")\n",
        "\n",
        "print(\"Enhanced RAG Pipeline created successfully!\")\n",
        "print(f\"Available distance metrics: {list(enhanced_vector_db.available_metrics.keys())}\")\n"
      ]
    },
    {
      "cell_type": "code",
      "execution_count": 39,
      "metadata": {},
      "outputs": [
        {
          "name": "stdout",
          "output_type": "stream",
          "text": [
            "================================================================================\n",
            "QUERY: What is the Michael Eisner Memorial Weak Executive Problem?\n",
            "================================================================================\n",
            "\n",
            "--- Using COSINE_SIMILARITY ---\n",
            "Response: The \"Michael Eisner Memorial Weak Executive Problem\" refers to a situation where a CEO or startup founder hesitates to fully relinquish control over the function that originally brought them success, ...\n",
            "Similarity Scores: ['Source 1: 0.654', 'Source 2: 0.504']\n",
            "\n",
            "--- Using EUCLIDEAN_SIMILARITY ---\n",
            "Response: The \"Michael Eisner Memorial Weak Executive Problem\" refers to a situation where a CEO or startup founder hires a weak executive in the function that originally brought them success, often because the...\n",
            "Similarity Scores: ['Source 1: 0.546', 'Source 2: 0.501']\n",
            "\n",
            "--- Using JACCARD_SIMILARITY ---\n",
            "Error with jaccard_similarity: '>' not supported between instances of 'list' and 'int'\n"
          ]
        }
      ],
      "source": [
        "# Test different distance metrics on the same query\n",
        "query = \"What is the Michael Eisner Memorial Weak Executive Problem?\"\n",
        "\n",
        "print(\"=\" * 80)\n",
        "print(f\"QUERY: {query}\")\n",
        "print(\"=\" * 80)\n",
        "\n",
        "# Test the three similarity metrics\n",
        "test_metrics = ['cosine_similarity', 'euclidean_similarity', 'jaccard_similarity']\n",
        "\n",
        "for metric in test_metrics:\n",
        "    print(f\"\\n--- Using {metric.upper()} ---\")\n",
        "    try:\n",
        "        result = enhanced_rag.run_pipeline_with_metric(query, k=2, distance_metric=metric)\n",
        "        print(f\"Response: {result['response'][:200]}...\")\n",
        "        print(f\"Similarity Scores: {result['similarity_scores']}\")\n",
        "    except Exception as e:\n",
        "        print(f\"Error with {metric}: {e}\")\n"
      ]
    },
    {
      "cell_type": "code",
      "execution_count": 40,
      "metadata": {},
      "outputs": [
        {
          "name": "stdout",
          "output_type": "stream",
          "text": [
            "====================================================================================================\n",
            "COMPARING ALL DISTANCE METRICS\n",
            "====================================================================================================\n",
            "\n",
            "🔍 COSINE_SIMILARITY\n",
            "--------------------------------------------------\n",
            "📝 Response: The \"Michael Eisner Memorial Weak Executive Problem\" refers to a situation where a CEO or startup founder, who previously excelled in a particular fun...\n",
            "📊 Scores: ['Source 1: 0.654', 'Source 2: 0.504']\n",
            "📄 Top Context: ordingly.\n",
            "Seventh, when hiring the executive to run your former specialty, be\n",
            "careful you don’t hire...\n",
            "\n",
            "🔍 EUCLIDEAN_SIMILARITY\n",
            "--------------------------------------------------\n",
            "📝 Response: The \"Michael Eisner Memorial Weak Executive Problem\" refers to a situation where a CEO or startup founder hires a weak executive to run the function o...\n",
            "📊 Scores: ['Source 1: 0.546', 'Source 2: 0.501']\n",
            "📄 Top Context: ordingly.\n",
            "Seventh, when hiring the executive to run your former specialty, be\n",
            "careful you don’t hire...\n",
            "\n",
            "🔍 JACCARD_SIMILARITY\n",
            "--------------------------------------------------\n",
            "❌ Error: '>' not supported between instances of 'list' and 'int'\n"
          ]
        }
      ],
      "source": [
        "# Compare all metrics side by side\n",
        "print(\"=\" * 100)\n",
        "print(\"COMPARING ALL DISTANCE METRICS\")\n",
        "print(\"=\" * 100)\n",
        "\n",
        "comparison_results = enhanced_rag.compare_metrics_performance(query, k=2)\n",
        "\n",
        "for metric_name, result in comparison_results.items():\n",
        "    print(f\"\\n🔍 {metric_name.upper()}\")\n",
        "    print(\"-\" * 50)\n",
        "    if \"error\" in result:\n",
        "        print(f\"❌ Error: {result['error']}\")\n",
        "    else:\n",
        "        print(f\"📝 Response: {result['response'][:150]}...\")\n",
        "        print(f\"📊 Scores: {result['similarity_scores']}\")\n",
        "        print(f\"📄 Top Context: {result['top_context']}\")\n"
      ]
    },
    {
      "cell_type": "markdown",
      "metadata": {},
      "source": [
        "### Step 5: Metrics Comparison Example\n",
        "\n"
      ]
    },
    {
      "cell_type": "code",
      "execution_count": 41,
      "metadata": {},
      "outputs": [
        {
          "name": "stdout",
          "output_type": "stream",
          "text": [
            "============================================================\n",
            "QUICK METRIC COMPARISON\n",
            "============================================================\n",
            "\n",
            "COSINE_SIMILARITY:\n",
            "  Response: The \"Michael Eisner Memorial Weak Executive Problem\" refers to a situation where...\n",
            "  Scores: ['Source 1: 0.654', 'Source 2: 0.504']\n",
            "\n",
            "EUCLIDEAN_SIMILARITY:\n",
            "  Response: The Michael Eisner Memorial Weak Executive Problem refers to a situation where a...\n",
            "  Scores: ['Source 1: 0.546', 'Source 2: 0.501']\n",
            "\n",
            "JACCARD_SIMILARITY: Error - '>' not supported between instances of 'list' and 'int'\n"
          ]
        }
      ],
      "source": [
        "# Quick test: Compare metrics on a sample query\n",
        "query = \"What is the Michael Eisner Memorial Weak Executive Problem?\"\n",
        "\n",
        "print(\"=\" * 60)\n",
        "print(\"QUICK METRIC COMPARISON\")\n",
        "print(\"=\" * 60)\n",
        "\n",
        "for metric in ['cosine_similarity', 'euclidean_similarity', 'jaccard_similarity']:\n",
        "    try:\n",
        "        result = enhanced_rag.run_pipeline_with_metric(query, k=2, distance_metric=metric)\n",
        "        print(f\"\\n{metric.upper()}:\")\n",
        "        print(f\"  Response: {result['response'][:80]}...\")\n",
        "        print(f\"  Scores: {result['similarity_scores']}\")\n",
        "    except Exception as e:\n",
        "        print(f\"\\n{metric.upper()}: Error - {e}\")\n"
      ]
    },
    {
      "cell_type": "code",
      "execution_count": 42,
      "metadata": {},
      "outputs": [
        {
          "name": "stdout",
          "output_type": "stream",
          "text": [
            "============================================================\n",
            "SIMPLIFIED METRIC COMPARISON\n",
            "============================================================\n",
            "\n",
            "COSINE_SIMILARITY:\n",
            "  Response: The \"Michael Eisner Memorial Weak Executive Problem\" refers to a situation where...\n",
            "  Scores: ['Source 1: 0.654', 'Source 2: 0.504']\n",
            "\n",
            "EUCLIDEAN_SIMILARITY:\n",
            "  Response: The \"Michael Eisner Memorial Weak Executive Problem\" refers to the situation whe...\n",
            "  Scores: ['Source 1: 0.546', 'Source 2: 0.501']\n"
          ]
        }
      ],
      "source": [
        "# Simplified test with only Cosine and Euclidean metrics\n",
        "query = \"What is the Michael Eisner Memorial Weak Executive Problem?\"\n",
        "\n",
        "print(\"=\" * 60)\n",
        "print(\"SIMPLIFIED METRIC COMPARISON\")\n",
        "print(\"=\" * 60)\n",
        "\n",
        "for metric in ['cosine_similarity', 'euclidean_similarity']:\n",
        "    try:\n",
        "        result = enhanced_rag.run_pipeline_with_metric(query, k=2, distance_metric=metric)\n",
        "        print(f\"\\n{metric.upper()}:\")\n",
        "        print(f\"  Response: {result['response'][:80]}...\")\n",
        "        print(f\"  Scores: {result['similarity_scores']}\")\n",
        "    except Exception as e:\n",
        "        print(f\"\\n{metric.upper()}: Error - {e}\")\n"
      ]
    },
    {
      "cell_type": "code",
      "execution_count": 43,
      "metadata": {},
      "outputs": [],
      "source": [
        "# Example usage:\n",
        "result = enhanced_rag.run_pipeline_with_metric(\"What is the best managerial strategy for a startup?\", distance_metric='cosine_similarity')\n"
      ]
    },
    {
      "cell_type": "code",
      "execution_count": 44,
      "metadata": {},
      "outputs": [
        {
          "name": "stdout",
          "output_type": "stream",
          "text": [
            "{'response': 'The best managerial strategy for a startup, based on the provided context, centers on aggressively seeking product/market fit within a big market rather than detailed upfront planning, hiring executives only when truly necessary, and focusing on execution amid inevitable uncertainties and adjustments.\\n\\nKey points include:\\n\\n1. Prioritize Achieving Product/Market Fit:\\n- Successful startups almost always reach product/market fit, despite potentially \"screwing up all kinds of other things\" such as marketing plans, sales models, or HR policies along the way (Source 3).\\n- Startups should aggressively pursue a big market and product/market fit after launch, rather than trying to perfectly plan in advance, because the initial idea and plan are highly uncertain and likely to evolve rapidly (Source 4).\\n\\n2. Careful and Timely Hiring of Executives:\\n- Startups often hire executives too early, especially before product/market fit is achieved; this can result in expensive hires with little impact (Source 1).\\n- It may be better to have highly motivated managers or directors rather than executives run functions initially.\\n\\n3. Leadership and Internal Cohesion:\\n- Unlike big companies where internal rivalries may be tolerated, startups cannot afford internal rivalries or warfare; cohesive leadership across functions and levels is critical (Source 1).\\n- Being a startup executive carries demanding and intense responsibilities, but it offers substantial rewards and influence over the company’s success (Source 1).\\n\\n4. Adaptability Over Detailed Early Planning:\\n- Startups need to be prepared to rapidly evolve every aspect of their plan as they encounter market realities (\"No battle plan ever survives contact with the enemy\") (Source 4).\\n\\nIn summary, the managerial strategy for startups should emphasize achieving product/market fit through flexible, adaptive execution; hiring leadership judiciously as needed; fostering internal alignment; and focusing on big market opportunities rather than rigid early plans.', 'context': [('hroughout the startup, in all functions and at all levels. Big\\ncompanies can oaen tolerate internal rivalries and warfare;\\nstartups cannot.\\nBeing a startup executive is not an easy job. The rewards are\\nsubstantial — the ability to contribute directly to the startups’s\\nsuccess; the latitude to build and run an organization according\\nto her own theories and principles; and a meaningful equity\\nstake that can lead to personal Xnancial independence if the\\nstartup succeeds — but the responsibilities are demanding and\\nintense.\\nHiring\\nFirst, if you’re not sure whether you need an executive for a function,\\ndon’t hire one.\\nStartups, particularly well-funded startups, oaen hire executives\\ntoo early. Particularly before a startup has achieved product/\\nmarket Xt, it is oMen better to have a highly motivated manager or\\ndirector running a function than an executive.\\nHiring an executive too quickly can lead to someone who is\\nreally expensive, sitting there in the middle of the room, doing\\nvery little.', np.float64(0.5831167149167137)), ('hat matters for a new\\nstartup.\\nBut Xrst, some theory:\\nIf you look at a broad cross-section of startups — say, 30 or 40\\nor more; enough to screen out the pure Yukes and look for patterns — two obvious facts will jump out at you.\\nFirst obvious fact: there is an incredibly wide divergence of success — some of those startups are insanely successful, some\\nhighly successful, many somewhat successful, and quite a few of\\ncourse outright fail.\\nSecond obvious fact: there is an incredibly wide divergence of\\ncaliber and quality for the three core elements of each startup\\n— team, product, and market.\\nAt any given startup, the team will range from outstanding to\\nremarkably Yawed; the product will range from a masterpiece\\nof engineering to barely functional; and the market will range\\nfrom booming to comatose.\\nAnd so you start to wonder — what correlates the most to success — team, product, or market? Or, more bluntly, what causes\\nsuccess? And, for those of us who are students of startup failure\\n— wha', np.float64(0.577319214288517)), (' suggesting that you do ignore everything else — just that\\njudging from what I’ve seen in successful startups, you can.\\nWhenever you see a successful startup, you see one that has\\nreached product/market Ht — and usually along the way\\nscrewed up all kinds of other things, from channel model to\\npipeline development strategy to marketing plan to press relations to compensation policies to the CEO sleeping with the\\nventure capitalist. And the startup is still successful.\\nConversely, you see a surprising number of really well-run\\nstartups that have all aspects of operations completely buttoned\\ndown, HR policies in place, great sales model, thoroughly\\nthought-through marketing plan, great interview processes,\\noutstanding catered food, 30″ monitors for all the programmers, top tier VCs on the board — heading straight oG a cliG\\ndue to not ever Hnding product/market Ht.\\nPart 4: The only thing that matters 31\\nIronically, once a startup is successful, and you ask the founders\\nwhat made it success', np.float64(0.5632438473318118)), ('ld that is\\na very uncertain place. You are simply probably not going to know\\nwhether your initial idea will work as a product and a business, or\\nnot. And you will probably have to rapidly evolve your plan —\\npossibly every aspect of it — as you go.\\n(The military has a saying that expresses the same concept —\\n“No battle plan ever survives contact with the enemy.” In this\\ncase, your enemy is the world at large.)\\nIt is therefore much more important for a startup to aggressively\\nseek out a big market, and product/market Ft within that market, once\\nthe startup is up and running, than it is to try to plan out what\\nyou are going to do in great detail ahead of time.\\nThe history of successful startups is quite clear on this topic.\\nNormally I would simply point to Microsoa, which started as\\na programming tools company before IBM all but forced Bill\\nGates to go into the operating system business, or Oracle, which\\nwas a consultancy for the CIA before Larry Ellison decided to\\nproductize the relation', np.float64(0.5498905630464106))], 'context_count': 4, 'similarity_scores': ['Source 1: 0.583', 'Source 2: 0.577', 'Source 3: 0.563', 'Source 4: 0.550'], 'distance_metric': 'cosine_similarity', 'prompts_used': {'system': {'role': 'system', 'content': 'You are a knowledgeable assistant that answers questions based strictly on provided context.\\n\\nInstructions:\\n- Only answer questions using information from the provided context\\n- If the context doesn\\'t contain relevant information, respond with \"I don\\'t know\"\\n- Be accurate and cite specific parts of the context when possible\\n- Keep responses detailed and detailed\\n- Only use the provided context. Do not use external knowledge.\\n- Only provide answers when you are confident the context supports your response.'}, 'user': {'role': 'user', 'content': 'Context Information:\\n[Source 1]: hroughout the startup, in all functions and at all levels. Big\\ncompanies can oaen tolerate internal rivalries and warfare;\\nstartups cannot.\\nBeing a startup executive is not an easy job. The rewards are\\nsubstantial — the ability to contribute directly to the startups’s\\nsuccess; the latitude to build and run an organization according\\nto her own theories and principles; and a meaningful equity\\nstake that can lead to personal Xnancial independence if the\\nstartup succeeds — but the responsibilities are demanding and\\nintense.\\nHiring\\nFirst, if you’re not sure whether you need an executive for a function,\\ndon’t hire one.\\nStartups, particularly well-funded startups, oaen hire executives\\ntoo early. Particularly before a startup has achieved product/\\nmarket Xt, it is oMen better to have a highly motivated manager or\\ndirector running a function than an executive.\\nHiring an executive too quickly can lead to someone who is\\nreally expensive, sitting there in the middle of the room, doing\\nvery little.\\n\\n[Source 2]: hat matters for a new\\nstartup.\\nBut Xrst, some theory:\\nIf you look at a broad cross-section of startups — say, 30 or 40\\nor more; enough to screen out the pure Yukes and look for patterns — two obvious facts will jump out at you.\\nFirst obvious fact: there is an incredibly wide divergence of success — some of those startups are insanely successful, some\\nhighly successful, many somewhat successful, and quite a few of\\ncourse outright fail.\\nSecond obvious fact: there is an incredibly wide divergence of\\ncaliber and quality for the three core elements of each startup\\n— team, product, and market.\\nAt any given startup, the team will range from outstanding to\\nremarkably Yawed; the product will range from a masterpiece\\nof engineering to barely functional; and the market will range\\nfrom booming to comatose.\\nAnd so you start to wonder — what correlates the most to success — team, product, or market? Or, more bluntly, what causes\\nsuccess? And, for those of us who are students of startup failure\\n— wha\\n\\n[Source 3]:  suggesting that you do ignore everything else — just that\\njudging from what I’ve seen in successful startups, you can.\\nWhenever you see a successful startup, you see one that has\\nreached product/market Ht — and usually along the way\\nscrewed up all kinds of other things, from channel model to\\npipeline development strategy to marketing plan to press relations to compensation policies to the CEO sleeping with the\\nventure capitalist. And the startup is still successful.\\nConversely, you see a surprising number of really well-run\\nstartups that have all aspects of operations completely buttoned\\ndown, HR policies in place, great sales model, thoroughly\\nthought-through marketing plan, great interview processes,\\noutstanding catered food, 30″ monitors for all the programmers, top tier VCs on the board — heading straight oG a cliG\\ndue to not ever Hnding product/market Ht.\\nPart 4: The only thing that matters 31\\nIronically, once a startup is successful, and you ask the founders\\nwhat made it success\\n\\n[Source 4]: ld that is\\na very uncertain place. You are simply probably not going to know\\nwhether your initial idea will work as a product and a business, or\\nnot. And you will probably have to rapidly evolve your plan —\\npossibly every aspect of it — as you go.\\n(The military has a saying that expresses the same concept —\\n“No battle plan ever survives contact with the enemy.” In this\\ncase, your enemy is the world at large.)\\nIt is therefore much more important for a startup to aggressively\\nseek out a big market, and product/market Ft within that market, once\\nthe startup is up and running, than it is to try to plan out what\\nyou are going to do in great detail ahead of time.\\nThe history of successful startups is quite clear on this topic.\\nNormally I would simply point to Microsoa, which started as\\na programming tools company before IBM all but forced Bill\\nGates to go into the operating system business, or Oracle, which\\nwas a consultancy for the CIA before Larry Ellison decided to\\nproductize the relation\\n\\nNumber of relevant sources found: 4\\nRelevance scores (cosine_similarity): Source 1: 0.583, Source 2: 0.577, Source 3: 0.563, Source 4: 0.550\\n\\nQuestion: What is the best managerial strategy for a startup?\\n\\nPlease provide your answer based solely on the context above.'}}}\n"
          ]
        }
      ],
      "source": [
        "print(result)"
      ]
    },
    {
      "cell_type": "code",
      "execution_count": null,
      "metadata": {},
      "outputs": [],
      "source": []
    }
  ],
  "metadata": {
    "colab": {
      "provenance": []
    },
    "kernelspec": {
      "display_name": ".venv",
      "language": "python",
      "name": "python3"
    },
    "language_info": {
      "codemirror_mode": {
        "name": "ipython",
        "version": 3
      },
      "file_extension": ".py",
      "mimetype": "text/x-python",
      "name": "python",
      "nbconvert_exporter": "python",
      "pygments_lexer": "ipython3",
      "version": "3.13.7"
    },
    "orig_nbformat": 4
  },
  "nbformat": 4,
  "nbformat_minor": 0
}
